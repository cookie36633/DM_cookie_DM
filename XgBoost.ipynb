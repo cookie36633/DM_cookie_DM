{
 "cells": [
  {
   "cell_type": "code",
   "execution_count": 1,
   "id": "a72abeca-e23d-49a1-8a62-638b1cb76e21",
   "metadata": {},
   "outputs": [],
   "source": [
    "import xgboost as xgb\n",
    "import numpy as np\n",
    "import pandas as pd\n",
    "import matplotlib.pyplot as plt\n",
    "from sklearn.preprocessing import LabelEncoder, OneHotEncoder\n",
    "from sklearn.model_selection import train_test_split\n",
    "from sklearn.metrics import confusion_matrix\n",
    "from sklearn.model_selection import cross_val_score\n",
    "from sklearn.metrics import r2_score, auc, accuracy_score"
   ]
  },
  {
   "cell_type": "code",
   "execution_count": 2,
   "id": "6316daf3-a746-4e6b-9da3-a51c71d19e18",
   "metadata": {},
   "outputs": [],
   "source": [
    "df = pd.read_csv('nndb_flat_out.csv')\n",
    "one_hot_encoder = OneHotEncoder()\n",
    "foodgroup_encoded = one_hot_encoder.fit_transform(df[['foodgroup']]).toarray()"
   ]
  },
  {
   "cell_type": "code",
   "execution_count": 3,
   "id": "c843ddb0-c727-4f06-af6a-5b9cdf085750",
   "metadata": {},
   "outputs": [],
   "source": [
    "feature_columns = ['energy_kcal', 'protein_g', 'fat_g','carb_g','sugar_g','fiber_g','vita_mcg'] \n",
    "X = df[feature_columns]\n",
    "y = foodgroup_encoded.argmax(axis=1)"
   ]
  },
  {
   "cell_type": "code",
   "execution_count": 4,
   "id": "060e8371-c060-4f37-9622-e9c03a05bae0",
   "metadata": {},
   "outputs": [],
   "source": [
    "X_train, X_test, y_train, y_test = train_test_split(X, y, test_size=0.9, random_state=42)\n",
    "#print(y_train)\n",
    "#print(X_train.shape, X_test.shape)"
   ]
  },
  {
   "cell_type": "code",
   "execution_count": 5,
   "id": "cecdf26c-52d3-4156-a5f1-951f9b5adde4",
   "metadata": {},
   "outputs": [],
   "source": [
    "# 转换为 DMatrix 格式\n",
    "dtrain = xgb.DMatrix(X_train, label=y_train)\n",
    "dtest = xgb.DMatrix(X_test)"
   ]
  },
  {
   "cell_type": "code",
   "execution_count": 6,
   "id": "b656f1ba-d9d1-4949-bde7-4625c1002e7d",
   "metadata": {},
   "outputs": [],
   "source": [
    "# 设置参数\n",
    "params = {\n",
    "    'objective': 'multi:softmax',  # 多分类问题\n",
    "    'num_class': 25,  # 类别数量\n",
    "    'max_depth': 4,  # 树的最大深度\n",
    "    'eta': 0.1,  # 学习率\n",
    "    'seed': 42\n",
    "}\n"
   ]
  },
  {
   "cell_type": "code",
   "execution_count": 7,
   "id": "5e75ee08-298e-43e8-a77b-b7a6f0074ca0",
   "metadata": {},
   "outputs": [],
   "source": [
    "# 训练模型\n",
    "num_round = 50  # 迭代次数\n",
    "bst = xgb.train(params, dtrain, num_boost_round=num_round)"
   ]
  },
  {
   "cell_type": "code",
   "execution_count": 8,
   "id": "e6186c85-2419-4e3e-9c64-90f3a86a9e78",
   "metadata": {},
   "outputs": [],
   "source": [
    "# 预测\n",
    "preds = bst.predict(dtest)\n",
    "#print(preds)"
   ]
  },
  {
   "cell_type": "code",
   "execution_count": 9,
   "id": "2a4e9ad5-7afc-4a92-9b33-5dccee49ae92",
   "metadata": {},
   "outputs": [
    {
     "name": "stdout",
     "output_type": "stream",
     "text": [
      "模型准确率: 0.57\n"
     ]
    }
   ],
   "source": [
    "# 计算准确率\n",
    "accuracy = accuracy_score(y_test, preds)\n",
    "print(f\"模型准确率: {accuracy:.2f}\")\n"
   ]
  },
  {
   "cell_type": "code",
   "execution_count": 10,
   "id": "ac8835d8-cab8-437a-a76b-deda22d0b32d",
   "metadata": {},
   "outputs": [
    {
     "name": "stdout",
     "output_type": "stream",
     "text": [
      "最佳参数组合： {'learning_rate': 0.1, 'max_depth': 4, 'n_estimators': 100}\n"
     ]
    }
   ],
   "source": [
    "from sklearn.model_selection import GridSearchCV\n",
    "from xgboost import XGBClassifier\n",
    "\n",
    "# 创建模型\n",
    "model = XGBClassifier()\n",
    "\n",
    "# 定义参数网格\n",
    "param_grid = {\n",
    "    'max_depth': [3, 4, 5],\n",
    "    'n_estimators': [50, 100, 200],\n",
    "    'learning_rate': [0.1, 0.3, 0.5]\n",
    "}\n",
    "\n",
    "# 使用网格搜索\n",
    "grid_search = GridSearchCV(model, param_grid, scoring='accuracy', cv=3)\n",
    "grid_search.fit(X_train, y_train)\n",
    "\n",
    "# 输出最佳参数\n",
    "print(\"最佳参数组合：\", grid_search.best_params_)\n"
   ]
  },
  {
   "cell_type": "code",
   "execution_count": null,
   "id": "27cbef46-2dd9-4dba-b154-bc0f562fd105",
   "metadata": {},
   "outputs": [],
   "source": []
  },
  {
   "cell_type": "code",
   "execution_count": null,
   "id": "d3a69608-3093-4ab9-8c3e-eb44ebac7df6",
   "metadata": {},
   "outputs": [],
   "source": []
  }
 ],
 "metadata": {
  "kernelspec": {
   "display_name": "Python 3 (ipykernel)",
   "language": "python",
   "name": "python3"
  },
  "language_info": {
   "codemirror_mode": {
    "name": "ipython",
    "version": 3
   },
   "file_extension": ".py",
   "mimetype": "text/x-python",
   "name": "python",
   "nbconvert_exporter": "python",
   "pygments_lexer": "ipython3",
   "version": "3.12.4"
  }
 },
 "nbformat": 4,
 "nbformat_minor": 5
}
